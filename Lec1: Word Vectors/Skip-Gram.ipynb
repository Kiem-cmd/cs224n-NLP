import torch 
import torch.nn as nn 


class CBOW(nn.Module):
    def __init__(self,vocab_size):
        super().__init__()
        self.embedding  = nn.Embedding(vocab_size, embed_dim) 
        self.linear = nn.Linear(embed_dim,vocab_size) 

    def forward(self,x):
        x = self.embedding(x) 
        x = x.mean(axis = 1) 
        x = self.linear(x) 
        return x 
        