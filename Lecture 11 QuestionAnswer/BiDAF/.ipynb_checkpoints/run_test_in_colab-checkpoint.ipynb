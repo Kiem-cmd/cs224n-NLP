{
 "cells": [
  {
   "cell_type": "code",
   "execution_count": 1,
   "metadata": {
    "executionInfo": {
     "elapsed": 5,
     "status": "ok",
     "timestamp": 1700203451925,
     "user": {
      "displayName": "Xuân Kiểm Phạm",
      "userId": "05112105348652790094"
     },
     "user_tz": -420
    },
    "id": "CJU4S8MZEf6-"
   },
   "outputs": [
    {
     "ename": "ModuleNotFoundError",
     "evalue": "No module named 'torch'",
     "output_type": "error",
     "traceback": [
      "\u001b[0;31m---------------------------------------------------------------------------\u001b[0m",
      "\u001b[0;31mModuleNotFoundError\u001b[0m                       Traceback (most recent call last)",
      "Cell \u001b[0;32mIn[1], line 1\u001b[0m\n\u001b[0;32m----> 1\u001b[0m \u001b[38;5;28;01mimport\u001b[39;00m \u001b[38;5;21;01mtorch\u001b[39;00m\n",
      "\u001b[0;31mModuleNotFoundError\u001b[0m: No module named 'torch'"
     ]
    }
   ],
   "source": [
    "import torch "
   ]
  },
  {
   "cell_type": "code",
   "execution_count": 2,
   "metadata": {
    "colab": {
     "base_uri": "https://localhost:8080/"
    },
    "executionInfo": {
     "elapsed": 17691,
     "status": "ok",
     "timestamp": 1700203469612,
     "user": {
      "displayName": "Xuân Kiểm Phạm",
      "userId": "05112105348652790094"
     },
     "user_tz": -420
    },
    "id": "T5QcLWJ2Ej5E",
    "outputId": "1ed1a490-e9b4-46a4-a581-d08197516601"
   },
   "outputs": [
    {
     "name": "stdout",
     "output_type": "stream",
     "text": [
      "Mounted at /content/drive\n"
     ]
    }
   ],
   "source": [
    "drive.mount('/content/drive')"
   ]
  },
  {
   "cell_type": "code",
   "execution_count": null,
   "metadata": {
    "id": "X6TAB6ppEYjn"
   },
   "outputs": [],
   "source": [
    "import pandas as pd\n",
    "import numpy as np\n",
    "import argparse\n",
    "import torch\n",
    "import torch.nn as nn\n",
    "import torch.nn.functional as F"
   ]
  },
  {
   "cell_type": "code",
   "execution_count": 11,
   "metadata": {
    "colab": {
     "base_uri": "https://localhost:8080/"
    },
    "executionInfo": {
     "elapsed": 936,
     "status": "ok",
     "timestamp": 1700203809210,
     "user": {
      "displayName": "Xuân Kiểm Phạm",
      "userId": "05112105348652790094"
     },
     "user_tz": -420
    },
    "id": "IPDMLnR-E8kq",
    "outputId": "48dd6861-5166-411f-dd68-597a64bca859"
   },
   "outputs": [
    {
     "name": "stdout",
     "output_type": "stream",
     "text": [
      "/content/drive/Othercomputers/My Laptop/New folder/CS224n-NLP/Lecture 11 QuestionAnswer/BiDAF\n"
     ]
    }
   ],
   "source": [
    "cd /content/drive/Othercomputers/My Laptop/New folder/CS224n-NLP/Lecture 11 QuestionAnswer/BiDAF"
   ]
  },
  {
   "cell_type": "code",
   "execution_count": 12,
   "metadata": {
    "executionInfo": {
     "elapsed": 1774,
     "status": "ok",
     "timestamp": 1700203812227,
     "user": {
      "displayName": "Xuân Kiểm Phạm",
      "userId": "05112105348652790094"
     },
     "user_tz": -420
    },
    "id": "NKpoDlHbEz_F"
   },
   "outputs": [],
   "source": [
    "from model.char_emb import CharEmb\n",
    "from model.word_emb import WordEmb"
   ]
  },
  {
   "cell_type": "code",
   "execution_count": 14,
   "metadata": {
    "colab": {
     "base_uri": "https://localhost:8080/"
    },
    "executionInfo": {
     "elapsed": 1,
     "status": "ok",
     "timestamp": 1700203836219,
     "user": {
      "displayName": "Xuân Kiểm Phạm",
      "userId": "05112105348652790094"
     },
     "user_tz": -420
    },
    "id": "7blajoZ0C6iI",
    "outputId": "e8e5a232-6de0-4e5a-d8ab-7984efb6c4ec"
   },
   "outputs": [
    {
     "name": "stdout",
     "output_type": "stream",
     "text": [
      "/content/drive/Othercomputers/My Laptop/New folder/CS224n-NLP/Lecture 11 QuestionAnswer/BiDAF/model\n"
     ]
    }
   ],
   "source": [
    "cd model"
   ]
  },
  {
   "cell_type": "code",
   "execution_count": 15,
   "metadata": {
    "colab": {
     "base_uri": "https://localhost:8080/"
    },
    "executionInfo": {
     "elapsed": 3971,
     "status": "ok",
     "timestamp": 1700203842171,
     "user": {
      "displayName": "Xuân Kiểm Phạm",
      "userId": "05112105348652790094"
     },
     "user_tz": -420
    },
    "id": "nO__QZC7C1yy",
    "outputId": "cacdf85a-7b26-4d33-9acb-cdbfb49d432a"
   },
   "outputs": [
    {
     "name": "stdout",
     "output_type": "stream",
     "text": [
      "torch.Size([10, 10, 10])\n"
     ]
    }
   ],
   "source": [
    "!python char_emb.py\n"
   ]
  },
  {
   "cell_type": "code",
   "execution_count": 16,
   "metadata": {
    "colab": {
     "base_uri": "https://localhost:8080/"
    },
    "executionInfo": {
     "elapsed": 3314,
     "status": "ok",
     "timestamp": 1700203864004,
     "user": {
      "displayName": "Xuân Kiểm Phạm",
      "userId": "05112105348652790094"
     },
     "user_tz": -420
    },
    "id": "UGA4gpDgC9-5",
    "outputId": "c81337db-aa4b-497b-90f9-e243f75de87b"
   },
   "outputs": [
    {
     "name": "stdout",
     "output_type": "stream",
     "text": [
      "torch.Size([10, 10, 10])\n"
     ]
    }
   ],
   "source": [
    "!python word_emb.py"
   ]
  },
  {
   "cell_type": "code",
   "execution_count": 20,
   "metadata": {
    "executionInfo": {
     "elapsed": 2,
     "status": "ok",
     "timestamp": 1700203955049,
     "user": {
      "displayName": "Xuân Kiểm Phạm",
      "userId": "05112105348652790094"
     },
     "user_tz": -420
    },
    "id": "YIaJudwlDDI8"
   },
   "outputs": [],
   "source": [
    "char = torch.rand(2,10,10)\n",
    "word = torch.rand(2,10,10)"
   ]
  },
  {
   "cell_type": "code",
   "execution_count": 50,
   "metadata": {
    "executionInfo": {
     "elapsed": 2,
     "status": "ok",
     "timestamp": 1700204819313,
     "user": {
      "displayName": "Xuân Kiểm Phạm",
      "userId": "05112105348652790094"
     },
     "user_tz": -420
    },
    "id": "x4_ErEyeDJtY"
   },
   "outputs": [],
   "source": [
    "embd = torch.rand(20,24,100)"
   ]
  },
  {
   "cell_type": "code",
   "execution_count": 22,
   "metadata": {
    "colab": {
     "base_uri": "https://localhost:8080/"
    },
    "executionInfo": {
     "elapsed": 1,
     "status": "ok",
     "timestamp": 1700203957705,
     "user": {
      "displayName": "Xuân Kiểm Phạm",
      "userId": "05112105348652790094"
     },
     "user_tz": -420
    },
    "id": "Hj9nd8DeCXT0",
    "outputId": "83a22eaf-ce9d-40ba-dfbc-e83f0930c413"
   },
   "outputs": [
    {
     "data": {
      "text/plain": [
       "torch.Size([2, 10, 20])"
      ]
     },
     "execution_count": 22,
     "metadata": {},
     "output_type": "execute_result"
    }
   ],
   "source": [
    "embd.shape"
   ]
  },
  {
   "cell_type": "code",
   "execution_count": 24,
   "metadata": {
    "colab": {
     "base_uri": "https://localhost:8080/"
    },
    "executionInfo": {
     "elapsed": 3260,
     "status": "ok",
     "timestamp": 1700204052882,
     "user": {
      "displayName": "Xuân Kiểm Phạm",
      "userId": "05112105348652790094"
     },
     "user_tz": -420
    },
    "id": "UTe3Aq2RDWqB",
    "outputId": "793aa7c9-be14-41b2-ecea-bf561db1bcf0"
   },
   "outputs": [
    {
     "name": "stdout",
     "output_type": "stream",
     "text": [
      "torch.Size([2, 10, 20])\n"
     ]
    }
   ],
   "source": [
    "!python highway_nerwork.py\n"
   ]
  },
  {
   "cell_type": "markdown",
   "metadata": {
    "id": "_5zQO6vmEX9i"
   },
   "source": [
    "d = 20"
   ]
  },
  {
   "cell_type": "code",
   "execution_count": 51,
   "metadata": {
    "executionInfo": {
     "elapsed": 2,
     "status": "ok",
     "timestamp": 1700204822826,
     "user": {
      "displayName": "Xuân Kiểm Phạm",
      "userId": "05112105348652790094"
     },
     "user_tz": -420
    },
    "id": "dOA56w-hDtAz"
   },
   "outputs": [],
   "source": [
    "ctx_emb_lay = nn.LSTM(1000,20,bidirectional = True, batch_first = True)"
   ]
  },
  {
   "cell_type": "code",
   "execution_count": 52,
   "metadata": {
    "executionInfo": {
     "elapsed": 1,
     "status": "ok",
     "timestamp": 1700204823194,
     "user": {
      "displayName": "Xuân Kiểm Phạm",
      "userId": "05112105348652790094"
     },
     "user_tz": -420
    },
    "id": "f1rNtOdfD-oS"
   },
   "outputs": [],
   "source": [
    "a,b = ctx_emb_lay(embd)"
   ]
  },
  {
   "cell_type": "code",
   "execution_count": 53,
   "metadata": {
    "colab": {
     "base_uri": "https://localhost:8080/"
    },
    "executionInfo": {
     "elapsed": 1,
     "status": "ok",
     "timestamp": 1700204823525,
     "user": {
      "displayName": "Xuân Kiểm Phạm",
      "userId": "05112105348652790094"
     },
     "user_tz": -420
    },
    "id": "v8Xscm3pEETi",
    "outputId": "b0c56965-650d-4f68-d918-d554f554a927"
   },
   "outputs": [
    {
     "data": {
      "text/plain": [
       "(torch.Size([2, 20, 20]), torch.Size([2, 20, 20]))"
      ]
     },
     "execution_count": 53,
     "metadata": {},
     "output_type": "execute_result"
    }
   ],
   "source": [
    "b[0].shape, b[1].shape"
   ]
  },
  {
   "cell_type": "code",
   "execution_count": 56,
   "metadata": {
    "colab": {
     "base_uri": "https://localhost:8080/"
    },
    "executionInfo": {
     "elapsed": 1,
     "status": "ok",
     "timestamp": 1700205183174,
     "user": {
      "displayName": "Xuân Kiểm Phạm",
      "userId": "05112105348652790094"
     },
     "user_tz": -420
    },
    "id": "Wyg4gBxxFcZB",
    "outputId": "45cd567b-041e-43d6-e5fb-e53ab566974f"
   },
   "outputs": [
    {
     "name": "stdout",
     "output_type": "stream",
     "text": [
      "torch.Size([10, 24, 16])\n",
      "torch.Size([1, 24, 16])\n",
      "torch.Size([1, 24, 16])\n"
     ]
    }
   ],
   "source": [
    "import torch.nn as nn\n",
    "import torch\n",
    "x = torch.rand(10,24,10) #batch,seq,input_size\n",
    "h0 = torch.rand(1,24,16)# num_layers*num_directions, batch, hidden_size\n",
    "c0 = torch.rand(1,24,16)\n",
    "lstm = nn.LSTM(100,16)\n",
    "output,(h,c) = lstm(x)\n",
    "print(output.size())\n",
    "print(h.size())\n",
    "print(c.size())"
   ]
  },
  {
   "cell_type": "code",
   "execution_count": 60,
   "metadata": {
    "colab": {
     "base_uri": "https://localhost:8080/"
    },
    "executionInfo": {
     "elapsed": 590,
     "status": "ok",
     "timestamp": 1700205409366,
     "user": {
      "displayName": "Xuân Kiểm Phạm",
      "userId": "05112105348652790094"
     },
     "user_tz": -420
    },
    "id": "KUJw5IZkH-Lq",
    "outputId": "8530d3cf-59f0-4db4-c90f-c2d003acf04e"
   },
   "outputs": [
    {
     "data": {
      "text/plain": [
       "torch.Size([2, 10, 40])"
      ]
     },
     "execution_count": 60,
     "metadata": {},
     "output_type": "execute_result"
    }
   ],
   "source": [
    "sample = torch.rand(2,10,20)\n",
    "context_lay = nn.LSTM(20,20,bidirectional = True,batch_first = True)\n",
    "\n",
    "context_lay(sample)[0].shape"
   ]
  },
  {
   "cell_type": "code",
   "execution_count": 61,
   "metadata": {
    "executionInfo": {
     "elapsed": 2,
     "status": "ok",
     "timestamp": 1700205487302,
     "user": {
      "displayName": "Xuân Kiểm Phạm",
      "userId": "05112105348652790094"
     },
     "user_tz": -420
    },
    "id": "ArakDCP2I2sa"
   },
   "outputs": [],
   "source": [
    "embd_context = torch.rand(2,10,40)  ###   N T 2d\n",
    "embd_query =torch.rand(2,14,40)     ###   N J 2d"
   ]
  },
  {
   "cell_type": "code",
   "execution_count": 69,
   "metadata": {
    "executionInfo": {
     "elapsed": 1,
     "status": "ok",
     "timestamp": 1700205834930,
     "user": {
      "displayName": "Xuân Kiểm Phạm",
      "userId": "05112105348652790094"
     },
     "user_tz": -420
    },
    "id": "ar3M79EvJOCJ"
   },
   "outputs": [],
   "source": [
    "a = torch.rand(2,10,14,40)\n",
    "b = torch.rand(2,10,14,40)"
   ]
  },
  {
   "cell_type": "code",
   "execution_count": 67,
   "metadata": {
    "colab": {
     "base_uri": "https://localhost:8080/"
    },
    "executionInfo": {
     "elapsed": 325,
     "status": "ok",
     "timestamp": 1700205646954,
     "user": {
      "displayName": "Xuân Kiểm Phạm",
      "userId": "05112105348652790094"
     },
     "user_tz": -420
    },
    "id": "qF2Igu3dJl7Y",
    "outputId": "a339d20e-54d0-4aff-e40e-0f1a7bf19865"
   },
   "outputs": [
    {
     "data": {
      "text/plain": [
       "torch.Size([2, 10, 14, 40])"
      ]
     },
     "execution_count": 67,
     "metadata": {},
     "output_type": "execute_result"
    }
   ],
   "source": [
    "embd_context.unsqueeze(2).expand(shape_).shape"
   ]
  },
  {
   "cell_type": "code",
   "execution_count": 70,
   "metadata": {
    "executionInfo": {
     "elapsed": 1,
     "status": "ok",
     "timestamp": 1700205837700,
     "user": {
      "displayName": "Xuân Kiểm Phạm",
      "userId": "05112105348652790094"
     },
     "user_tz": -420
    },
    "id": "_rB6tQVLJphY"
   },
   "outputs": [],
   "source": [
    "a_elmwise_mul_b = torch.mul(a, b)"
   ]
  },
  {
   "cell_type": "code",
   "execution_count": 71,
   "metadata": {
    "colab": {
     "base_uri": "https://localhost:8080/"
    },
    "executionInfo": {
     "elapsed": 2,
     "status": "ok",
     "timestamp": 1700205845249,
     "user": {
      "displayName": "Xuân Kiểm Phạm",
      "userId": "05112105348652790094"
     },
     "user_tz": -420
    },
    "id": "50lNh455Kh4o",
    "outputId": "b5ed76ce-8038-46a2-da76-da7814b0c8be"
   },
   "outputs": [
    {
     "data": {
      "text/plain": [
       "torch.Size([2, 10, 14, 40])"
      ]
     },
     "execution_count": 71,
     "metadata": {},
     "output_type": "execute_result"
    }
   ],
   "source": [
    "a_elmwise_mul_b.shape"
   ]
  },
  {
   "cell_type": "code",
   "execution_count": 76,
   "metadata": {
    "colab": {
     "base_uri": "https://localhost:8080/"
    },
    "executionInfo": {
     "elapsed": 353,
     "status": "ok",
     "timestamp": 1700207066867,
     "user": {
      "displayName": "Xuân Kiểm Phạm",
      "userId": "05112105348652790094"
     },
     "user_tz": -420
    },
    "id": "GJAdpDJlKlbo",
    "outputId": "62ca3b58-55ff-489d-f584-84b27efc47bf"
   },
   "outputs": [
    {
     "data": {
      "text/plain": [
       "torch.Size([2, 2, 3])"
      ]
     },
     "execution_count": 76,
     "metadata": {},
     "output_type": "execute_result"
    }
   ],
   "source": [
    "torch.rand(2,2,3,1).squeeze(3).shape"
   ]
  },
  {
   "cell_type": "code",
   "execution_count": 77,
   "metadata": {
    "colab": {
     "base_uri": "https://localhost:8080/"
    },
    "executionInfo": {
     "elapsed": 329,
     "status": "ok",
     "timestamp": 1700207317117,
     "user": {
      "displayName": "Xuân Kiểm Phạm",
      "userId": "05112105348652790094"
     },
     "user_tz": -420
    },
    "id": "GoF3AXIYPKA3",
    "outputId": "89e6253a-9552-402b-eb71-0799c9da92c9"
   },
   "outputs": [
    {
     "data": {
      "text/plain": [
       "torch.Size([5, 5, 5])"
      ]
     },
     "execution_count": 77,
     "metadata": {},
     "output_type": "execute_result"
    }
   ],
   "source": [
    "F.softmax(torch.rand(5,5,5),dim  = -1).shape"
   ]
  },
  {
   "cell_type": "code",
   "execution_count": null,
   "metadata": {
    "id": "RAoNHRpiQM1f"
   },
   "outputs": [],
   "source": []
  }
 ],
 "metadata": {
  "colab": {
   "authorship_tag": "ABX9TyMm8q8hqUsRhQXF2SQoYYjn",
   "provenance": []
  },
  "kernelspec": {
   "display_name": "env1",
   "language": "python",
   "name": "env1"
  },
  "language_info": {
   "codemirror_mode": {
    "name": "ipython",
    "version": 3
   },
   "file_extension": ".py",
   "mimetype": "text/x-python",
   "name": "python",
   "nbconvert_exporter": "python",
   "pygments_lexer": "ipython3",
   "version": "3.11.5"
  }
 },
 "nbformat": 4,
 "nbformat_minor": 1
}
