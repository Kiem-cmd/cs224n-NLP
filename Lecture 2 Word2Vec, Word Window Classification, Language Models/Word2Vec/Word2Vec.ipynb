{
 "cells": [
  {
   "cell_type": "markdown",
   "metadata": {},
   "source": [
    "### Import Lib"
   ]
  },
  {
   "cell_type": "code",
   "execution_count": 2,
   "metadata": {},
   "outputs": [],
   "source": [
    "import re\n",
    "import numpy as np "
   ]
  },
  {
   "cell_type": "code",
   "execution_count": 3,
   "metadata": {},
   "outputs": [],
   "source": [
    "data_example = \"After the deduction of the costs of investing, \" \\\n",
    "      \"beating the stock market is a loser's game.\""
   ]
  },
  {
   "cell_type": "markdown",
   "metadata": {},
   "source": [
    "### Data preprocessing "
   ]
  },
  {
   "cell_type": "markdown",
   "metadata": {},
   "source": [
    "##### Token -> tách các từ thành từng token( có thể trùng nhau )"
   ]
  },
  {
   "cell_type": "code",
   "execution_count": 4,
   "metadata": {},
   "outputs": [],
   "source": [
    "def tokenize(text):\n",
    "    # obtains tokens with a least 1 alphabet\n",
    "    pattern = re.compile(r'[A-Za-z]+[\\w^\\']*|[\\w^\\']*[A-Za-z]+[\\w^\\']*')\n",
    "    return pattern.findall(text.lower())"
   ]
  },
  {
   "cell_type": "code",
   "execution_count": 7,
   "metadata": {},
   "outputs": [
    {
     "data": {
      "text/plain": [
       "['after',\n",
       " 'the',\n",
       " 'deduction',\n",
       " 'of',\n",
       " 'the',\n",
       " 'costs',\n",
       " 'of',\n",
       " 'investing',\n",
       " 'beating',\n",
       " 'the',\n",
       " 'stock',\n",
       " 'market',\n",
       " 'is',\n",
       " 'a',\n",
       " \"loser's\",\n",
       " 'game']"
      ]
     },
     "execution_count": 7,
     "metadata": {},
     "output_type": "execute_result"
    }
   ],
   "source": [
    "tokens = tokenize(data_example)\n",
    "tokens"
   ]
  },
  {
   "cell_type": "markdown",
   "metadata": {},
   "source": [
    "##### Tạo mapping từ word2id và id2word"
   ]
  },
  {
   "cell_type": "code",
   "execution_count": 8,
   "metadata": {},
   "outputs": [],
   "source": [
    "def mapping(tokens):\n",
    "    word2id = dict() \n",
    "    id2word = dict() \n",
    "\n",
    "    for i, token in enumerate(set(tokens)):\n",
    "        word2id[token] = i \n",
    "        id2word[i] = token \n",
    "    return word2id,id2word \n",
    "    "
   ]
  },
  {
   "cell_type": "code",
   "execution_count": 9,
   "metadata": {},
   "outputs": [],
   "source": [
    "word2id, id2word = mapping(tokens)"
   ]
  },
  {
   "cell_type": "code",
   "execution_count": 10,
   "metadata": {},
   "outputs": [
    {
     "name": "stdout",
     "output_type": "stream",
     "text": [
      "Word2Id:   {'market': 0, 'is': 1, 'of': 2, 'investing': 3, 'the': 4, 'stock': 5, 'beating': 6, 'game': 7, \"loser's\": 8, 'a': 9, 'after': 10, 'costs': 11, 'deduction': 12}\n",
      "Id2word:  {0: 'market', 1: 'is', 2: 'of', 3: 'investing', 4: 'the', 5: 'stock', 6: 'beating', 7: 'game', 8: \"loser's\", 9: 'a', 10: 'after', 11: 'costs', 12: 'deduction'}\n"
     ]
    }
   ],
   "source": [
    "print(\"Word2Id:  \",word2id)\n",
    "print(\"Id2word: \",id2word)"
   ]
  },
  {
   "cell_type": "markdown",
   "metadata": {},
   "source": [
    "##### Tạo bộ dữ liệu --> Với skip-gram thì các từ trung tâm sẽ dùng để dự đoán các từ context \n",
    "$X = w_t$\n",
    "\n",
    "$Y = \\{w_{t-n},w_{t-n+1},...w_{t-1},w_{t+1},...w_{t+n}\\}$"
   ]
  },
  {
   "cell_type": "code",
   "execution_count": 6,
   "metadata": {},
   "outputs": [],
   "source": [
    "def generate_training_data(tokens, word_to_ids, window_size):\n",
    "    N = len(tokens) \n",
    "    X, Y = [], [] \n",
    "\n",
    "    for i in range(N):\n",
    "        window_word = list(range(max(0,i - window_size),i)) + list(range(i+1,min(i+ window_size + 1 , N))) \n",
    "        for j in window_word: \n",
    "            X.append(word_to_ids[tokens[i]]) \n",
    "            Y.append(word_to_ids[tokens[j]]) \n",
    "    X = np.array(X) \n",
    "    Y = np.array(Y) \n",
    "    X = np.expand_dims(X, axis = 0 )\n",
    "    Y = np.expand_dims(Y, axis = 0) \n",
    "    return X,Y "
   ]
  },
  {
   "cell_type": "code",
   "execution_count": 11,
   "metadata": {},
   "outputs": [
    {
     "name": "stdout",
     "output_type": "stream",
     "text": [
      "X:  [[10 10 10  4  4  4  4 12 12 12 12 12  2  2  2  2  2  2  4  4  4  4  4  4\n",
      "  11 11 11 11 11 11  2  2  2  2  2  2  3  3  3  3  3  3  6  6  6  6  6  6\n",
      "   4  4  4  4  4  4  5  5  5  5  5  5  0  0  0  0  0  0  1  1  1  1  1  1\n",
      "   9  9  9  9  9  8  8  8  8  7  7  7]]\n",
      "Y:  [[ 4 12  2 10 12  2  4 10  4  2  4 11 10  4 12  4 11  2  4 12  2 11  2  3\n",
      "  12  2  4  2  3  6  2  4 11  3  6  4  4 11  2  6  4  5 11  2  3  4  5  0\n",
      "   2  3  6  5  0  1  3  6  4  0  1  9  6  4  5  1  9  8  4  5  0  9  8  7\n",
      "   5  0  1  8  7  0  1  9  7  1  9  8]]\n"
     ]
    }
   ],
   "source": [
    "X,Y = generate_training_data(tokens, word2id, window_size = 3)\n",
    "print(\"X: \",X)\n",
    "print(\"Y: \",Y)"
   ]
  },
  {
   "cell_type": "code",
   "execution_count": 14,
   "metadata": {},
   "outputs": [],
   "source": [
    "X = np.array(X) \n",
    "Y = np.array(Y)"
   ]
  },
  {
   "cell_type": "code",
   "execution_count": 19,
   "metadata": {},
   "outputs": [
    {
     "name": "stdout",
     "output_type": "stream",
     "text": [
      "X:  ['after', 'after', 'after', 'the', 'the', 'the', 'the', 'deduction', 'deduction', 'deduction', 'deduction', 'deduction', 'of', 'of', 'of', 'of', 'of', 'of', 'the', 'the', 'the', 'the', 'the', 'the', 'costs', 'costs', 'costs', 'costs', 'costs', 'costs', 'of', 'of', 'of', 'of', 'of', 'of', 'investing', 'investing', 'investing', 'investing', 'investing', 'investing', 'beating', 'beating', 'beating', 'beating', 'beating', 'beating', 'the', 'the', 'the', 'the', 'the', 'the', 'stock', 'stock', 'stock', 'stock', 'stock', 'stock', 'market', 'market', 'market', 'market', 'market', 'market', 'is', 'is', 'is', 'is', 'is', 'is', 'a', 'a', 'a', 'a', 'a', \"loser's\", \"loser's\", \"loser's\", \"loser's\", 'game', 'game', 'game']\n",
      "Y:  ['the', 'deduction', 'of', 'after', 'deduction', 'of', 'the', 'after', 'the', 'of', 'the', 'costs', 'after', 'the', 'deduction', 'the', 'costs', 'of', 'the', 'deduction', 'of', 'costs', 'of', 'investing', 'deduction', 'of', 'the', 'of', 'investing', 'beating', 'of', 'the', 'costs', 'investing', 'beating', 'the', 'the', 'costs', 'of', 'beating', 'the', 'stock', 'costs', 'of', 'investing', 'the', 'stock', 'market', 'of', 'investing', 'beating', 'stock', 'market', 'is', 'investing', 'beating', 'the', 'market', 'is', 'a', 'beating', 'the', 'stock', 'is', 'a', \"loser's\", 'the', 'stock', 'market', 'a', \"loser's\", 'game', 'stock', 'market', 'is', \"loser's\", 'game', 'market', 'is', 'a', 'game', 'is', 'a', \"loser's\"]\n"
     ]
    }
   ],
   "source": [
    "X_word = [id2word[i] for i in X[0]]\n",
    "print(\"X: \",X_word)\n",
    "Y_word = [id2word[i] for i in Y[0]]\n",
    "print(\"Y: \",Y_word)"
   ]
  },
  {
   "cell_type": "markdown",
   "metadata": {},
   "source": [
    "###  Model "
   ]
  },
  {
   "cell_type": "code",
   "execution_count": 153,
   "metadata": {},
   "outputs": [],
   "source": [
    "def softmax(x):\n",
    "    return np.divide(np.exp(x),(np.sum(np.exp(x),axis = 0, keepdims=True) + 0.001))"
   ]
  },
  {
   "cell_type": "code",
   "execution_count": 220,
   "metadata": {},
   "outputs": [],
   "source": [
    "class Training():\n",
    "    def __init__(self,vocab_size):\n",
    "        self.vocab_size = vocab_size \n",
    "    def init(self,embed_dim,output_dim):\n",
    "        word_vec  = np.random.randn(self.vocab_size,embed_dim) * 0.01  \n",
    "        w = np.random.randn(output_dim,embed_dim) * 0.01 \n",
    "        self.parameter = { }\n",
    "        self.parameter['word_vec'] = word_vec\n",
    "        self.parameter['w'] = w \n",
    "        # return parameter \n",
    "    def forward(self,x):\n",
    "        word_vec = self.parameter['word_vec'][x,:].T ### Chuyển từ id -> word_vec (emb,B)\n",
    "        n = word_vec.shape[1] \n",
    "        w = self.parameter['w']     ## out, emb\n",
    "        z = np.dot(w,word_vec) \n",
    "        self.out = softmax(z) \n",
    "        self.cache = {} \n",
    "        self.cache['inds'] = x \n",
    "        self.cache['word_vec'] = word_vec \n",
    "        self.cache['w'] = w \n",
    "        self.cache['z'] = z \n",
    "    def loss(self,y):\n",
    "        m = self.out.shape[1] \n",
    "        loss = -(1/m) * np.sum(np.sum(y * np.log(self.out + 0.001), axis = 0 , keepdims= True) , axis = 1)\n",
    "        return loss \n",
    "    def backward(self,y):\n",
    "        w = self.cache['w']\n",
    "        x = self.cache['word_vec']\n",
    "        m = x.shape[1]\n",
    "\n",
    "        dz = self.out - y \n",
    "        dx = np.dot(w.T,dz)\n",
    "        dw = (1/m) * np.dot(dz,x.T)\n",
    "\n",
    "        self.gradient = dict()\n",
    "        self.gradient['dz'] = dz \n",
    "        self.gradient['dw'] = dw \n",
    "        self.gradient['dx'] = dx\n",
    "\n",
    "    def update(self,lr):\n",
    "        id = self.cache['inds'] \n",
    "        dx = self.gradient['dx']\n",
    "        dw = self.gradient['dw']\n",
    "        x = self.cache['inds']\n",
    "        \n",
    "        self.parameter['word_vec'][x,:] -= lr * dx.T \n",
    "        self.parameter['w'] -= lr * dw \n",
    "        "
   ]
  },
  {
   "cell_type": "markdown",
   "metadata": {},
   "source": [
    "### Training "
   ]
  },
  {
   "cell_type": "code",
   "execution_count": 224,
   "metadata": {},
   "outputs": [],
   "source": [
    "def skipgram(X,Y,vocab_size, emb_dim,output_dim, lr, epochs, batch_size, print_loss):\n",
    "    loss_ = [] \n",
    "    m = X.shape[0] \n",
    "    train = Training(vocab_size)\n",
    "    train.init(emb_dim,output_dim)\n",
    "    start_time = time.time() \n",
    "    for epoch in range(epochs):\n",
    "        epoch_loss =  0 \n",
    "        batch_data = list(range(0,m,batch_size))\n",
    "        np.random.shuffle(batch_data)\n",
    "        for i in batch_data:\n",
    "            X_batch = X[i:i+batch_size]\n",
    "            Y_batch = Y[:,i:i+batch_size] \n",
    "            train.forward(X_batch) \n",
    "            train.backward(Y_batch) \n",
    "            train.update(lr) \n",
    "            loss = train.loss(Y_batch)\n",
    "            epoch_loss += np.squeeze(loss) \n",
    "        loss_.append(epoch_loss)\n",
    "        if print_loss and (epoch % 500 == 0):\n",
    "            print(\"Epoch: \",epoch, \" -- Loss: \",epoch_loss) \n",
    "        if epoch % (epochs // 100) == 0:\n",
    "            lr *= 0.98 \n",
    "    end_time = time.time() \n",
    "    print(\"-----------------------\")\n",
    "    print(\"Training Time: \",end_time - start_time) \n",
    "\n",
    "    return train.parameter,loss_\n"
   ]
  },
  {
   "cell_type": "code",
   "execution_count": 225,
   "metadata": {},
   "outputs": [
    {
     "ename": "ValueError",
     "evalue": "operands could not be broadcast together with shapes (10,4) (13,4) ",
     "output_type": "error",
     "traceback": [
      "\u001b[1;31m---------------------------------------------------------------------------\u001b[0m",
      "\u001b[1;31mValueError\u001b[0m                                Traceback (most recent call last)",
      "\u001b[1;32mc:\\Users\\ACER\\Desktop\\New folder\\CS224n-NLP\\Lecture 2 Word2Vec, Word Window Classification, Language Models\\Word2Vec\\Word2Vec.ipynb Cell 22\u001b[0m line \u001b[0;36m1\n\u001b[1;32m----> <a href='vscode-notebook-cell:/c%3A/Users/ACER/Desktop/New%20folder/CS224n-NLP/Lecture%202%20Word2Vec%2C%20Word%20Window%20Classification%2C%20Language%20Models/Word2Vec/Word2Vec.ipynb#Y111sZmlsZQ%3D%3D?line=0'>1</a>\u001b[0m para, loss_ \u001b[39m=\u001b[39m skipgram(X,Y_one_hot,vocab_size\u001b[39m=\u001b[39;49m\u001b[39m13\u001b[39;49m,emb_dim\u001b[39m=\u001b[39;49m\u001b[39m100\u001b[39;49m,output_dim\u001b[39m=\u001b[39;49m\u001b[39m10\u001b[39;49m,lr \u001b[39m=\u001b[39;49m \u001b[39m0.01\u001b[39;49m,epochs \u001b[39m=\u001b[39;49m \u001b[39m5000\u001b[39;49m,batch_size\u001b[39m=\u001b[39;49m \u001b[39m4\u001b[39;49m,print_loss\u001b[39m=\u001b[39;49m \u001b[39mTrue\u001b[39;49;00m)\n",
      "\u001b[1;32mc:\\Users\\ACER\\Desktop\\New folder\\CS224n-NLP\\Lecture 2 Word2Vec, Word Window Classification, Language Models\\Word2Vec\\Word2Vec.ipynb Cell 22\u001b[0m line \u001b[0;36m1\n\u001b[0;32m     <a href='vscode-notebook-cell:/c%3A/Users/ACER/Desktop/New%20folder/CS224n-NLP/Lecture%202%20Word2Vec%2C%20Word%20Window%20Classification%2C%20Language%20Models/Word2Vec/Word2Vec.ipynb#Y111sZmlsZQ%3D%3D?line=12'>13</a>\u001b[0m Y_batch \u001b[39m=\u001b[39m Y[:,i:i\u001b[39m+\u001b[39mbatch_size]\n\u001b[0;32m     <a href='vscode-notebook-cell:/c%3A/Users/ACER/Desktop/New%20folder/CS224n-NLP/Lecture%202%20Word2Vec%2C%20Word%20Window%20Classification%2C%20Language%20Models/Word2Vec/Word2Vec.ipynb#Y111sZmlsZQ%3D%3D?line=13'>14</a>\u001b[0m train\u001b[39m.\u001b[39mforward(X_batch) \n\u001b[1;32m---> <a href='vscode-notebook-cell:/c%3A/Users/ACER/Desktop/New%20folder/CS224n-NLP/Lecture%202%20Word2Vec%2C%20Word%20Window%20Classification%2C%20Language%20Models/Word2Vec/Word2Vec.ipynb#Y111sZmlsZQ%3D%3D?line=14'>15</a>\u001b[0m train\u001b[39m.\u001b[39;49mbackward(Y_batch) \n\u001b[0;32m     <a href='vscode-notebook-cell:/c%3A/Users/ACER/Desktop/New%20folder/CS224n-NLP/Lecture%202%20Word2Vec%2C%20Word%20Window%20Classification%2C%20Language%20Models/Word2Vec/Word2Vec.ipynb#Y111sZmlsZQ%3D%3D?line=15'>16</a>\u001b[0m train\u001b[39m.\u001b[39mupdate(lr) \n\u001b[0;32m     <a href='vscode-notebook-cell:/c%3A/Users/ACER/Desktop/New%20folder/CS224n-NLP/Lecture%202%20Word2Vec%2C%20Word%20Window%20Classification%2C%20Language%20Models/Word2Vec/Word2Vec.ipynb#Y111sZmlsZQ%3D%3D?line=16'>17</a>\u001b[0m loss \u001b[39m=\u001b[39m train\u001b[39m.\u001b[39mloss(Y_batch)\n",
      "\u001b[1;32mc:\\Users\\ACER\\Desktop\\New folder\\CS224n-NLP\\Lecture 2 Word2Vec, Word Window Classification, Language Models\\Word2Vec\\Word2Vec.ipynb Cell 22\u001b[0m line \u001b[0;36m3\n\u001b[0;32m     <a href='vscode-notebook-cell:/c%3A/Users/ACER/Desktop/New%20folder/CS224n-NLP/Lecture%202%20Word2Vec%2C%20Word%20Window%20Classification%2C%20Language%20Models/Word2Vec/Word2Vec.ipynb#Y111sZmlsZQ%3D%3D?line=27'>28</a>\u001b[0m x \u001b[39m=\u001b[39m \u001b[39mself\u001b[39m\u001b[39m.\u001b[39mcache[\u001b[39m'\u001b[39m\u001b[39mword_vec\u001b[39m\u001b[39m'\u001b[39m]\n\u001b[0;32m     <a href='vscode-notebook-cell:/c%3A/Users/ACER/Desktop/New%20folder/CS224n-NLP/Lecture%202%20Word2Vec%2C%20Word%20Window%20Classification%2C%20Language%20Models/Word2Vec/Word2Vec.ipynb#Y111sZmlsZQ%3D%3D?line=28'>29</a>\u001b[0m m \u001b[39m=\u001b[39m x\u001b[39m.\u001b[39mshape[\u001b[39m1\u001b[39m]\n\u001b[1;32m---> <a href='vscode-notebook-cell:/c%3A/Users/ACER/Desktop/New%20folder/CS224n-NLP/Lecture%202%20Word2Vec%2C%20Word%20Window%20Classification%2C%20Language%20Models/Word2Vec/Word2Vec.ipynb#Y111sZmlsZQ%3D%3D?line=30'>31</a>\u001b[0m dz \u001b[39m=\u001b[39m \u001b[39mself\u001b[39;49m\u001b[39m.\u001b[39;49mout \u001b[39m-\u001b[39;49m y \n\u001b[0;32m     <a href='vscode-notebook-cell:/c%3A/Users/ACER/Desktop/New%20folder/CS224n-NLP/Lecture%202%20Word2Vec%2C%20Word%20Window%20Classification%2C%20Language%20Models/Word2Vec/Word2Vec.ipynb#Y111sZmlsZQ%3D%3D?line=31'>32</a>\u001b[0m dx \u001b[39m=\u001b[39m np\u001b[39m.\u001b[39mdot(w\u001b[39m.\u001b[39mT,dz)\n\u001b[0;32m     <a href='vscode-notebook-cell:/c%3A/Users/ACER/Desktop/New%20folder/CS224n-NLP/Lecture%202%20Word2Vec%2C%20Word%20Window%20Classification%2C%20Language%20Models/Word2Vec/Word2Vec.ipynb#Y111sZmlsZQ%3D%3D?line=32'>33</a>\u001b[0m dw \u001b[39m=\u001b[39m (\u001b[39m1\u001b[39m\u001b[39m/\u001b[39mm) \u001b[39m*\u001b[39m np\u001b[39m.\u001b[39mdot(dz,x\u001b[39m.\u001b[39mT)\n",
      "\u001b[1;31mValueError\u001b[0m: operands could not be broadcast together with shapes (10,4) (13,4) "
     ]
    }
   ],
   "source": [
    "para, loss_ = skipgram(X,Y_one_hot,vocab_size=13,emb_dim=100,output_dim=10,lr = 0.01,epochs = 5000,batch_size= 4,print_loss= True)"
   ]
  },
  {
   "cell_type": "markdown",
   "metadata": {},
   "source": [
    "### Evaluate"
   ]
  },
  {
   "cell_type": "code",
   "execution_count": 205,
   "metadata": {},
   "outputs": [
    {
     "data": {
      "text/plain": [
       "[<matplotlib.lines.Line2D at 0x226a4c3fb90>]"
      ]
     },
     "execution_count": 205,
     "metadata": {},
     "output_type": "execute_result"
    },
    {
     "data": {
      "image/png": "[encoded data removed]",
      "text/plain": [
       "<Figure size 640x480 with 1 Axes>"
      ]
     },
     "metadata": {},
     "output_type": "display_data"
    }
   ],
   "source": [
    "import matplotlib.pyplot as plt \n",
    "plt.plot(loss_)"
   ]
  },
  {
   "cell_type": "code",
   "execution_count": 208,
   "metadata": {},
   "outputs": [],
   "source": [
    "from sklearn.decomposition import PCA\n"
   ]
  },
  {
   "cell_type": "code",
   "execution_count": 209,
   "metadata": {},
   "outputs": [
    {
     "data": {
      "text/plain": [
       "array([10, 10, 10,  4,  4,  4,  4, 12, 12, 12, 12, 12,  2,  2,  2,  2,  2,\n",
       "        2,  4,  4,  4,  4,  4,  4, 11, 11, 11, 11, 11, 11,  2,  2,  2,  2,\n",
       "        2,  2,  3,  3,  3,  3,  3,  3,  6,  6,  6,  6,  6,  6,  4,  4,  4,\n",
       "        4,  4,  4,  5,  5,  5,  5,  5,  5,  0,  0,  0,  0,  0,  0,  1,  1,\n",
       "        1,  1,  1,  1,  9,  9,  9,  9,  9,  8,  8,  8,  8,  7,  7,  7])"
      ]
     },
     "execution_count": 209,
     "metadata": {},
     "output_type": "execute_result"
    }
   ],
   "source": [
    "X"
   ]
  },
  {
   "cell_type": "code",
   "execution_count": 210,
   "metadata": {},
   "outputs": [],
   "source": [
    "word_vec = para['word_vec'][X,:].T ### Chuyển từ id -> word_vec \n",
    "w = para['w']\n",
    "z = np.dot(w,word_vec) \n",
    "out = softmax(z)"
   ]
  },
  {
   "cell_type": "code",
   "execution_count": 212,
   "metadata": {},
   "outputs": [
    {
     "data": {
      "text/plain": [
       "(13, 84)"
      ]
     },
     "execution_count": 212,
     "metadata": {},
     "output_type": "execute_result"
    }
   ],
   "source": [
    "out.shape"
   ]
  },
  {
   "cell_type": "code",
   "execution_count": null,
   "metadata": {},
   "outputs": [],
   "source": []
  }
 ],
 "metadata": {
  "kernelspec": {
   "display_name": "Python 3",
   "language": "python",
   "name": "python3"
  },
  "language_info": {
   "codemirror_mode": {
    "name": "ipython",
    "version": 3
   },
   "file_extension": ".py",
   "mimetype": "text/x-python",
   "name": "python",
   "nbconvert_exporter": "python",
   "pygments_lexer": "ipython3",
   "version": "3.11.1"
  }
 },
 "nbformat": 4,
 "nbformat_minor": 2
}
