{
 "cells": [
  {
   "cell_type": "code",
   "execution_count": 39,
   "metadata": {},
   "outputs": [],
   "source": [
    "import re \n",
    "import math \n",
    "import numpy as np \n",
    "import torch \n",
    "import torch.nn as nn "
   ]
  },
  {
   "cell_type": "markdown",
   "metadata": {},
   "source": [
    "### 1. Load dataset "
   ]
  },
  {
   "cell_type": "code",
   "execution_count": 37,
   "metadata": {},
   "outputs": [],
   "source": [
    "with open('dataset.txt','r') as file:\n",
    "    text = file.read()"
   ]
  },
  {
   "cell_type": "markdown",
   "metadata": {},
   "source": [
    "### 2. Data preprocessing "
   ]
  },
  {
   "cell_type": "markdown",
   "metadata": {},
   "source": [
    "#### 2.1 Loại bỏ kí tự đặc biệt "
   ]
  },
  {
   "cell_type": "code",
   "execution_count": 38,
   "metadata": {},
   "outputs": [],
   "source": [
    "sentences = re.sub(\"[.,!?-]\", '', text.lower()).split('n')  # filter '.', ',', '?', '!'\n"
   ]
  },
  {
   "cell_type": "code",
   "execution_count": 36,
   "metadata": {},
   "outputs": [
    {
     "data": {
      "text/plain": [
       "['hello how are you i am romeo',\n",
       " 'hello romeo my ',\n",
       " 'ame is juliet ',\n",
       " 'ice to meet you',\n",
       " '',\n",
       " 'ice meet you too how are you today',\n",
       " 'great my baseball team wo',\n",
       " ' the competitio',\n",
       " '',\n",
       " 'oh co',\n",
       " 'gratulatio',\n",
       " 's juliet',\n",
       " 'tha',\n",
       " 'ks you romeo']"
      ]
     },
     "execution_count": 36,
     "metadata": {},
     "output_type": "execute_result"
    }
   ],
   "source": [
    "sentences"
   ]
  },
  {
   "cell_type": "markdown",
   "metadata": {},
   "source": [
    "#### 2.2 Tạo vocab "
   ]
  },
  {
   "cell_type": "code",
   "execution_count": 41,
   "metadata": {},
   "outputs": [
    {
     "data": {
      "text/plain": [
       "['team',\n",
       " 'the',\n",
       " \"''oh\",\n",
       " 'ame',\n",
       " 'my',\n",
       " 'juliet',\n",
       " \"romeo'\",\n",
       " 'romeo',\n",
       " \"''\",\n",
       " 'are',\n",
       " 'i',\n",
       " \"''hello\",\n",
       " 'wo',\n",
       " 'gratulatio',\n",
       " \"''great\",\n",
       " 'how',\n",
       " 'ice',\n",
       " 'to',\n",
       " 'ks',\n",
       " \"'hello\",\n",
       " 'you',\n",
       " 'meet',\n",
       " 'co',\n",
       " 'competitio',\n",
       " 'am',\n",
       " 's',\n",
       " \"''tha\",\n",
       " 'too',\n",
       " 'baseball',\n",
       " 'today',\n",
       " 'is']"
      ]
     },
     "execution_count": 41,
     "metadata": {},
     "output_type": "execute_result"
    }
   ],
   "source": [
    "vocab = list(set(\" \".join(sentences).split())) \n",
    "vocab"
   ]
  },
  {
   "cell_type": "markdown",
   "metadata": {},
   "source": [
    "#### Các token đặc biệt \n",
    "[CLS] đầu mỗi câu \n",
    "\n",
    "[SEP] Chia hai câu \n",
    "\n",
    "[PAD] Phần đệm ko phải dữ liệu \n",
    "\n",
    "[MASK] Phần che dấu theo paper "
   ]
  },
  {
   "cell_type": "code",
   "execution_count": 42,
   "metadata": {},
   "outputs": [],
   "source": [
    "vocav_dict = {\n",
    "    '[PAD]' : 0, \n",
    "    '[CLS]' : 1,\n",
    "    '[SEP]' : 2,\n",
    "    '[MASK]': 3\n",
    "}"
   ]
  },
  {
   "cell_type": "code",
   "execution_count": 50,
   "metadata": {},
   "outputs": [
    {
     "data": {
      "text/plain": [
       "60"
      ]
     },
     "execution_count": 50,
     "metadata": {},
     "output_type": "execute_result"
    }
   ],
   "source": [
    "from random import * \n",
    "randrange(100)"
   ]
  },
  {
   "cell_type": "code",
   "execution_count": 59,
   "metadata": {},
   "outputs": [
    {
     "name": "stdout",
     "output_type": "stream",
     "text": [
      "True\n"
     ]
    }
   ],
   "source": [
    "if random() < 0.8: \n",
    "    print(True)\n",
    "elif random() < 0.5:\n",
    "    print(False)"
   ]
  },
  {
   "cell_type": "code",
   "execution_count": null,
   "metadata": {},
   "outputs": [],
   "source": [
    "def make_batch(): \n",
    "    batch = []\n",
    "    positive = negative = 0  ## postive thể hiện cho hai câu là liên tiếp và ngược lại\n",
    "    while positive != batch_size/2 or negative != batch_size/2:  ### Kiểm tra đến khi pos ve neg = B/2\n",
    "        token_a_index, token_b_index = randrange(len(sentences)), randrange(len(sentences)) \n",
    "        token_a , token_b = token_list[token_a_index], token_list[token_b_index] \n",
    "        input_ids = [word_dict['CLS']] + token_a + [word_dict['SEP']] + token_b + [word_dict['SEP']] \n",
    "\n",
    "        n_mask = min(max_mask,max(1,int(round(len(input_ids)*0.15))))\n",
    "        can_mask_pos = [i for i,token in enumerate(input_ids) \n",
    "                        if token != word_dict['CLS'] and token != word_dict['SEP']]\n",
    "        shuffle(can_mask_pos) \n",
    "        masked_pos = [] \n",
    "        masked_token = []\n",
    "        for pos in can_mask_pos[:max_mask]:\n",
    "            masked_pos.append(pos)\n",
    "            masked_token.append(input_ids[pos])\n",
    "            if random() < 0.8: \n",
    "                input_ids[pos] = word_dict['[MASK]']\n",
    "            if random() < 0.5: \n",
    "                input_ids[pos] = word_dict[number_dict[randint(0,vocab_size - 1)]] \n",
    "        n_pad = maxlen - len(input_ids) \n",
    "        input_ids.extend([0] * n_pad) \n",
    "        segment_ids.extend([0] * n_pad) \n",
    "\n",
    "        if max_mask > n_mask: \n",
    "            n_pad = max_mask - n_mask \n",
    "            masked_token.extend([0] * n_pad) \n",
    "            mask_pos.extend([0] * n_pad) \n",
    "            "
   ]
  },
  {
   "cell_type": "markdown",
   "metadata": {},
   "source": [
    "### 3. Model "
   ]
  },
  {
   "cell_type": "markdown",
   "metadata": {},
   "source": [
    "### 4.Train "
   ]
  },
  {
   "cell_type": "code",
   "execution_count": null,
   "metadata": {},
   "outputs": [],
   "source": []
  }
 ],
 "metadata": {
  "kernelspec": {
   "display_name": "Python 3",
   "language": "python",
   "name": "python3"
  },
  "language_info": {
   "codemirror_mode": {
    "name": "ipython",
    "version": 3
   },
   "file_extension": ".py",
   "mimetype": "text/x-python",
   "name": "python",
   "nbconvert_exporter": "python",
   "pygments_lexer": "ipython3",
   "version": "3.11.1"
  }
 },
 "nbformat": 4,
 "nbformat_minor": 2
}
