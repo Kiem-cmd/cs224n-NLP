{
 "cells": [
  {
   "cell_type": "markdown",
   "metadata": {},
   "source": [
    "#### Dataset "
   ]
  },
  {
   "cell_type": "code",
   "execution_count": 4,
   "metadata": {},
   "outputs": [
    {
     "name": "stdout",
     "output_type": "stream",
     "text": [
      "<START> this film was just brilliant casting <UNK> <UNK> story direction <UNK> really <UNK> the part they played and you could just imagine being there robert <UNK> is an amazing actor and now the same being director <UNK> father came from the same <UNK> <UNK> as myself so i loved the fact there was a real <UNK> with this film the <UNK> <UNK> throughout the film were great it was just brilliant so much that i <UNK> the film as soon as it was released for <UNK> and would recommend it to everyone to watch and the <UNK> <UNK> was amazing really <UNK> at the end it was so sad and you know what they say if you <UNK> at a film it must have been good and this definitely was also <UNK> to the two little <UNK> that played the <UNK> of <UNK> and paul they were just brilliant children are often left out of the <UNK> <UNK> i think because the stars that play them all <UNK> up are such a big <UNK> for the whole film but these children are amazing and should be <UNK> for what they have done don't you think the whole story was so <UNK> because it was true and was <UNK> life after all that was <UNK> with us all\n",
      "<START> big <UNK> big <UNK> bad music and a <UNK> <UNK> <UNK> these are the words to best <UNK> this terrible movie i love cheesy horror movies and i've seen <UNK> but this had got to be on of the worst ever made the plot is <UNK> <UNK> and ridiculous the acting is an <UNK> the script is completely <UNK> the best is the end <UNK> with the <UNK> and how he worked out who the killer is it's just so <UNK> <UNK> written the <UNK> are <UNK> and funny in <UNK> <UNK> the <UNK> is big lots of <UNK> <UNK> men <UNK> those cut <UNK> <UNK> that show off their <UNK> <UNK> that men actually <UNK> them and the music is just <UNK> <UNK> that plays over and over again in almost every scene there is <UNK> music <UNK> and <UNK> taking away <UNK> and the <UNK> still doesn't close for <UNK> all <UNK> <UNK> this is a truly bad film whose only <UNK> is to look back on the <UNK> that was the <UNK> and have a good old laugh at how bad everything was back then\n",
      "<START> this has to be one of the worst films of the <UNK> when my friends i were watching this film being the <UNK> audience it was <UNK> at we just <UNK> watched the first half an hour with our <UNK> <UNK> the <UNK> at how bad it really was the rest of the time everyone else in the <UNK> just started talking to each other <UNK> or <UNK> <UNK> into their <UNK> that they actually <UNK> money they had <UNK> working to watch this <UNK> <UNK> for a film it must have looked like a great idea on <UNK> but on film it looks like no one in the film has a <UNK> what is going on crap acting crap <UNK> i can't get across how <UNK> this is to watch save yourself an hour a bit of your life\n"
     ]
    }
   ],
   "source": [
    "import tensorflow\n",
    "NUM_WORDS=1000\n",
    "INDEX_FROM=3  \n",
    "\n",
    "train,test = tensorflow.keras.datasets.imdb.load_data(num_words=NUM_WORDS, index_from=INDEX_FROM)\n",
    "train_x,train_y = train\n",
    "test_x,test_y = test\n",
    "\n",
    "word_to_id = keras.datasets.imdb.get_word_index()\n",
    "word_to_id = {k:(v+INDEX_FROM) for k,v in word_to_id.items()}\n",
    "word_to_id[\"<PAD>\"] = 0\n",
    "word_to_id[\"<START>\"] = 1\n",
    "word_to_id[\"<UNK>\"] = 2\n",
    "word_to_id[\"<UNUSED>\"] = 3\n",
    "\n",
    "id_to_word = {value:key for key,value in word_to_id.items()}\n",
    "print(' '.join(id_to_word[id] for id in train_x[0] ))\n",
    "print(' '.join(id_to_word[id] for id in train_x[1] ))\n",
    "print(' '.join(id_to_word[id] for id in train_x[2] ))"
   ]
  },
  {
   "cell_type": "markdown",
   "metadata": {},
   "source": [
    "#### Activation Function \n",
    "* Softmax:\n",
    "\n",
    "    $ softmax(x) = \\frac{e^{x_i}}{\\sum_{j=1}e^{x_j}}$\n",
    "* Tanh:\n",
    "\n",
    "    $Tanh(x) = \\frac{e^x - e^{-x}}{e^x + e^{-x}}$"
   ]
  },
  {
   "cell_type": "code",
   "execution_count": 34,
   "metadata": {},
   "outputs": [
    {
     "name": "stdout",
     "output_type": "stream",
     "text": [
      "Softmax:  [0.66524096 0.09003057 0.24472847]\n",
      "Tanh:  [0.99505475 0.76159416 0.96402758]\n"
     ]
    }
   ],
   "source": [
    "sample = [3.0,1.0,2.0]\n",
    "\n",
    "def softmax(x): \n",
    "    return np.exp(x) / np.sum(np.exp(x),axis = 0 ) \n",
    "softmax(sample)    \n",
    "def tanh(x):\n",
    "    return np.tanh(x)\n",
    "print(\"Softmax: \",softmax(sample))\n",
    "print(\"Tanh: \",tanh(sample))"
   ]
  },
  {
   "cell_type": "markdown",
   "metadata": {},
   "source": [
    "#### Loss function : Cross Entropy Loss\n",
    "\n",
    "$L(p,q) = -\\sum_ip_ilog(q_i)$\n",
    "\n",
    "\n",
    "* Binary Cross-Entropy Loss: \n",
    "\n",
    "    $L = \\frac{1}{N}\\sum_{i=1}^{N}(y_ilog(p_i) + (1-y_i)log(1 - p_i))$\n",
    "\n",
    "* Multi Class : \n",
    "\n",
    "    $ L = -\\frac{1}{N}\\sum_{i=1}^{N}\\sum_{j=1}^{C}y_{ij}log(p_{ij})$\n"
   ]
  },
  {
   "cell_type": "code",
   "execution_count": null,
   "metadata": {},
   "outputs": [],
   "source": [
    "class CrossEntropy:\n",
    "    def __init__(self,type_ = \"binary\"):\n",
    "        self.type = type_\n",
    "    def forward(self,y_pred,y):\n",
    "        self.y = y \n",
    "        self.y_pred = y_pred\n",
    "        if self.type == 'binary'\n",
    "            _loss =  -y * np.log(self.y_pred)\n",
    "            loss = np.sum(_loss,axis = 0).mean()\n",
    "            return np.squeeze(loss)\n",
    "        else: \n",
    "            \n",
    "\n"
   ]
  },
  {
   "cell_type": "markdown",
   "metadata": {},
   "source": [
    "#### Optimize - SGD (momentum)\n",
    "\n",
    "$\\begin{aligned}\n",
    "    v_{t+1} & = \\beta * v_{t} + (1 - \\beta) * g_{t+1}, \\\\\n",
    "    w_{t+1} & = w_{t} - \\text{lr} * v_{t+1},\n",
    "\\end{aligned}$\n"
   ]
  },
  {
   "cell_type": "code",
   "execution_count": null,
   "metadata": {},
   "outputs": [],
   "source": [
    "class SGD:\n",
    "    def __init__(self,lr = 0.05,beta = 0.9):\n",
    "        self.lr = 0.05\n",
    "        self.beta = 0.9\n",
    "    def optimize(self,weights,gradient,vel = None):\n",
    "        if vel is None: \n",
    "            vel = [0 for w in weights]\n",
    "        vel = self._update_vel(\n",
    "            gradient,self.beta,vel\n",
    "        )\n",
    "        new_weight = []\n",
    "\n",
    "        for w,vel in zip (weights, vel):\n",
    "            w -=self.lr * vel \n",
    "            new_weight.append(w)\n",
    "        return new_weight,vel\n",
    "    def _update_vel(self,gradient,beta,vel):\n",
    "        new_vel = []\n",
    "        for gradient,vel in zip(gradient,vel):\n",
    "            new_vel = beta * vel + (1-beta) * gradient \n",
    "            new_vel.append(new_vel)\n",
    "        return new_vel"
   ]
  },
  {
   "cell_type": "markdown",
   "metadata": {},
   "source": [
    "#### Model - RNN "
   ]
  },
  {
   "attachments": {
    "image.png": {
     "image/png": "[encoded data removed]"
    }
   },
   "cell_type": "markdown",
   "metadata": {},
   "source": [
    "![image.png](attachment:image.png)"
   ]
  },
  {
   "cell_type": "markdown",
   "metadata": {},
   "source": [
    "* Hidden State : \n",
    "    $h_t = \\sigma(W^{(hh)}h_{t-1} + W^{(hx)}x_{[t]} + bx)$\n",
    "    \n",
    "* Y Predict : \n",
    "    $\\hat{y} = softmax(W^{(S)}h_t + by)$"
   ]
  },
  {
   "cell_type": "code",
   "execution_count": null,
   "metadata": {},
   "outputs": [],
   "source": [
    "class RNN:\n",
    "    def __init__(self,input_dim,output_dim,hidden_dim):\n",
    "        self.input_dim = input_dim\n",
    "        self.output_dim = output_dim \n",
    "        self.hidden_dim = hidden_dim \n",
    "    def _init_param(self):\n",
    "        w_y = np.random.rand(output_dim,hidden_dim) \n",
    "        by = np.zeros((ouptut_dim,1))\n",
    "        w_hx = np.random.randn(hidden_dim,input_dim) \n",
    "        w_hh = np.random.rand(hidden_dim,hidden_dim)\n",
    "        bx = p.zeros(hidden_dim,1)\n",
    "\n",
    "        return w_y,w_hx,w_hh,bx,by \n",
    "    \n",
    "    def forward(self,x):\n",
    "        \"\"\"\n",
    "        \"\"\"\n",
    "\n",
    "        self.x = x \n",
    "        self.layers_tanh = [Tanh() for i in x]\n",
    "        hidden = np.zeros((self.hidden_dim,1))\n",
    "        self.hidden_list = [hidden]\n",
    "        self.y_pred = []\n",
    "\n",
    "        for i,act in zip(x,self.layers_tanh):\n",
    "            h = tanh(np.dot(self.Whx,x) + np.dot(self.Whh,hidden) + self.bx)\n",
    "            y = softmax(np.dot(Ws,hidden) + self.by )\n",
    "        return self.y\n",
    "    def loss(self,y):\n",
    "        self.y = y \n",
    "        self.layers_loss = [CrossEntropy() for y in self.y]\n",
    "        cost = 0 \n",
    "        for y_pred, y, layer in zip(Self.y_pred,self.y,self.layers):\n",
    "            cost += layer.forward(y_pred,y)\n",
    "            \n",
    "    def backward(self):\n",
    "        pass \n",
    "    def optimize(self):\n",
    "        pass"
   ]
  },
  {
   "cell_type": "markdown",
   "metadata": {},
   "source": [
    "#### Training "
   ]
  },
  {
   "cell_type": "code",
   "execution_count": null,
   "metadata": {},
   "outputs": [],
   "source": [
    "## HyperParameter \n",
    "num_epochs = .. \n",
    "input_dim = ..\n",
    "output_dim = ..\n",
    "hidden_dim = .. \n",
    "\n"
   ]
  },
  {
   "cell_type": "code",
   "execution_count": null,
   "metadata": {},
   "outputs": [],
   "source": [
    "model = RNN()\n",
    "opt = SGD()\n",
    "loss = CrossEntropy() "
   ]
  },
  {
   "cell_type": "code",
   "execution_count": null,
   "metadata": {},
   "outputs": [],
   "source": [
    "for epoch in range(num_epochs):\n",
    "    y_ pred = model.forward(x)\n",
    "    loss = model.loss(y,y_pred)\n",
    "    model.backward()\n",
    "    model.optimize()\n",
    "    \n",
    "    if epochs % 5 == 0:\n",
    "        print(\"--------------\")\n",
    "        "
   ]
  },
  {
   "cell_type": "markdown",
   "metadata": {},
   "source": [
    "#### Infer "
   ]
  },
  {
   "cell_type": "code",
   "execution_count": null,
   "metadata": {},
   "outputs": [],
   "source": []
  }
 ],
 "metadata": {
  "kernelspec": {
   "display_name": "Python 3",
   "language": "python",
   "name": "python3"
  },
  "language_info": {
   "codemirror_mode": {
    "name": "ipython",
    "version": 3
   },
   "file_extension": ".py",
   "mimetype": "text/x-python",
   "name": "python",
   "nbconvert_exporter": "python",
   "pygments_lexer": "ipython3",
   "version": "3.11.1"
  },
  "orig_nbformat": 4
 },
 "nbformat": 4,
 "nbformat_minor": 2
}
